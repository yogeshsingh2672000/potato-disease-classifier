{
 "cells": [
  {
   "cell_type": "code",
   "execution_count": 1,
   "id": "b4544c1e",
   "metadata": {},
   "outputs": [],
   "source": [
    "import tensorflow as tf\n",
    "from tensorflow.keras import models, layers\n",
    "import matplotlib.pyplot as plt"
   ]
  },
  {
   "cell_type": "code",
   "execution_count": 2,
   "id": "c6640633",
   "metadata": {},
   "outputs": [],
   "source": [
    "IMAGE_SIZE = 256\n",
    "BATCH_SIZE = 32\n",
    "CHANNELS = 3\n",
    "EPOCHS = 50"
   ]
  },
  {
   "cell_type": "code",
   "execution_count": 3,
   "id": "d13a697b",
   "metadata": {},
   "outputs": [
    {
     "name": "stdout",
     "output_type": "stream",
     "text": [
      "Found 2152 files belonging to 3 classes.\n"
     ]
    }
   ],
   "source": [
    "dataset = tf.keras.preprocessing.image_dataset_from_directory(\n",
    "    \"PlantVillage\",\n",
    "    shuffle=True,\n",
    "    image_size = (IMAGE_SIZE, IMAGE_SIZE),\n",
    "    batch_size = BATCH_SIZE\n",
    ")"
   ]
  },
  {
   "cell_type": "code",
   "execution_count": 4,
   "id": "17800d77",
   "metadata": {},
   "outputs": [
    {
     "data": {
      "text/plain": [
       "['Potato___Early_blight', 'Potato___Late_blight', 'Potato___healthy']"
      ]
     },
     "execution_count": 4,
     "metadata": {},
     "output_type": "execute_result"
    }
   ],
   "source": [
    "class_names = dataset.class_names\n",
    "class_names"
   ]
  },
  {
   "cell_type": "code",
   "execution_count": 5,
   "id": "c15d9bee",
   "metadata": {},
   "outputs": [
    {
     "data": {
      "text/plain": [
       "68"
      ]
     },
     "execution_count": 5,
     "metadata": {},
     "output_type": "execute_result"
    }
   ],
   "source": [
    "len(dataset)"
   ]
  },
  {
   "cell_type": "code",
   "execution_count": 6,
   "id": "064d237d",
   "metadata": {},
   "outputs": [
    {
     "data": {
      "text/plain": [
       "54.400000000000006"
      ]
     },
     "execution_count": 6,
     "metadata": {},
     "output_type": "execute_result"
    }
   ],
   "source": [
    "train_size = 0.8\n",
    "len(dataset)*train_size"
   ]
  },
  {
   "cell_type": "code",
   "execution_count": 7,
   "id": "f2d88ac3",
   "metadata": {},
   "outputs": [
    {
     "data": {
      "text/plain": [
       "54"
      ]
     },
     "execution_count": 7,
     "metadata": {},
     "output_type": "execute_result"
    }
   ],
   "source": [
    "train_ds = dataset.take(54)\n",
    "len(train_ds)"
   ]
  },
  {
   "cell_type": "code",
   "execution_count": 8,
   "id": "96918e79",
   "metadata": {},
   "outputs": [
    {
     "data": {
      "text/plain": [
       "14"
      ]
     },
     "execution_count": 8,
     "metadata": {},
     "output_type": "execute_result"
    }
   ],
   "source": [
    "test_ds = dataset.skip(54)\n",
    "len(test_ds)"
   ]
  },
  {
   "cell_type": "code",
   "execution_count": 9,
   "id": "f61aa2dd",
   "metadata": {},
   "outputs": [
    {
     "data": {
      "text/plain": [
       "6.800000000000001"
      ]
     },
     "execution_count": 9,
     "metadata": {},
     "output_type": "execute_result"
    }
   ],
   "source": [
    "val_size = 0.1 # validation dataset\n",
    "len(dataset)*val_size"
   ]
  },
  {
   "cell_type": "code",
   "execution_count": 10,
   "id": "5cd1b7ae",
   "metadata": {},
   "outputs": [
    {
     "data": {
      "text/plain": [
       "6"
      ]
     },
     "execution_count": 10,
     "metadata": {},
     "output_type": "execute_result"
    }
   ],
   "source": [
    "val_ds = test_ds.take(6) # validation dataset\n",
    "len(val_ds)"
   ]
  },
  {
   "cell_type": "code",
   "execution_count": 11,
   "id": "2ad274ff",
   "metadata": {},
   "outputs": [
    {
     "data": {
      "text/plain": [
       "8"
      ]
     },
     "execution_count": 11,
     "metadata": {},
     "output_type": "execute_result"
    }
   ],
   "source": [
    "test_ds = test_ds.skip(6)\n",
    "len(test_ds)"
   ]
  },
  {
   "cell_type": "code",
   "execution_count": 12,
   "id": "fab15309",
   "metadata": {},
   "outputs": [],
   "source": [
    "def get_dataset_partitions_tf(ds, train_split=0.8, val_split=0.1, test_split=0.1, shuffle=True, shuffle_size=10000):\n",
    "    \n",
    "    ds_size = len(ds)\n",
    "    \n",
    "    if shuffle:\n",
    "        ds = ds.shuffle(shuffle_size, seed=12)\n",
    "    \n",
    "    train_size = int(train_split * ds_size)\n",
    "    val_size = int(val_split * ds_size)\n",
    "    \n",
    "    train_ds = ds.take(train_size)\n",
    "    val_ds = ds.skip(train_size).take(val_size)\n",
    "    test_ds = ds.skip(train_size).skip(val_size)\n",
    "    \n",
    "    return train_ds, val_ds, test_ds\n"
   ]
  },
  {
   "cell_type": "code",
   "execution_count": 13,
   "id": "85b4390c",
   "metadata": {},
   "outputs": [],
   "source": [
    "train_ds, val_ds, test_ds = get_dataset_partitions_tf(dataset)"
   ]
  },
  {
   "cell_type": "code",
   "execution_count": 14,
   "id": "6cc027b9",
   "metadata": {},
   "outputs": [
    {
     "data": {
      "text/plain": [
       "54"
      ]
     },
     "execution_count": 14,
     "metadata": {},
     "output_type": "execute_result"
    }
   ],
   "source": [
    "len(train_ds)"
   ]
  },
  {
   "cell_type": "code",
   "execution_count": 15,
   "id": "7251050c",
   "metadata": {},
   "outputs": [
    {
     "data": {
      "text/plain": [
       "6"
      ]
     },
     "execution_count": 15,
     "metadata": {},
     "output_type": "execute_result"
    }
   ],
   "source": [
    "len(val_ds)\n"
   ]
  },
  {
   "cell_type": "code",
   "execution_count": 16,
   "id": "cdc0c7a2",
   "metadata": {},
   "outputs": [
    {
     "data": {
      "text/plain": [
       "8"
      ]
     },
     "execution_count": 16,
     "metadata": {},
     "output_type": "execute_result"
    }
   ],
   "source": [
    "len(test_ds)"
   ]
  },
  {
   "cell_type": "code",
   "execution_count": 17,
   "id": "8e27128f",
   "metadata": {},
   "outputs": [],
   "source": [
    "train_ds = train_ds.cache().shuffle(1000).prefetch(buffer_size=tf.data.AUTOTUNE)\n",
    "val_ds = val_ds.cache().shuffle(1000).prefetch(buffer_size=tf.data.AUTOTUNE)\n",
    "test_ds = test_ds.cache().shuffle(1000).prefetch(buffer_size=tf.data.AUTOTUNE)"
   ]
  },
  {
   "cell_type": "code",
   "execution_count": 18,
   "id": "06c99a82",
   "metadata": {},
   "outputs": [],
   "source": [
    "resize_and_rescale = tf.keras.Sequential([\n",
    "    layers.experimental.preprocessing.Rescaling(IMAGE_SIZE,IMAGE_SIZE),\n",
    "    layers.experimental.preprocessing.Rescaling(1.0/255)\n",
    "])"
   ]
  },
  {
   "cell_type": "code",
   "execution_count": 19,
   "id": "fcf210c5",
   "metadata": {},
   "outputs": [],
   "source": [
    "data_augmentation = tf.keras.Sequential([\n",
    "    layers.experimental.preprocessing.RandomFlip(\"horizontal_and_vertical\"),\n",
    "    layers.experimental.preprocessing.RandomRotation(0.2)\n",
    "])"
   ]
  },
  {
   "cell_type": "code",
   "execution_count": 20,
   "id": "0d56d3d3",
   "metadata": {},
   "outputs": [],
   "source": [
    "input_shape = (BATCH_SIZE, IMAGE_SIZE, IMAGE_SIZE, CHANNELS)\n",
    "n_classes = 3\n",
    "\n",
    "model = models.Sequential([\n",
    "    resize_and_rescale,\n",
    "    data_augmentation,\n",
    "    layers.Conv2D(32, kernel_size = (3, 3), activation='relu', input_shape = input_shape),\n",
    "    layers.MaxPooling2D((2, 2)),\n",
    "    layers.Conv2D(64, kernel_size = (3, 3), activation='relu'),\n",
    "    layers.MaxPooling2D((2, 2)),\n",
    "    layers.Conv2D(64, kernel_size = (3, 3), activation='relu'),\n",
    "    layers.MaxPooling2D((2, 2)),\n",
    "    layers.Conv2D(64, (3, 3), activation='relu'),\n",
    "    layers.MaxPooling2D((2, 2)),\n",
    "    layers.Conv2D(64, (3, 3), activation='relu'),\n",
    "    layers.MaxPooling2D((2, 2)),\n",
    "    layers.Conv2D(64, (3, 3), activation='relu'),\n",
    "    layers.MaxPooling2D((2, 2)),\n",
    "    layers.Flatten(),\n",
    "    layers.Dense(64, activation='relu'),\n",
    "    layers.Dense(n_classes, activation='softmax'),\n",
    "    \n",
    "])\n",
    "\n",
    "model.build(input_shape=input_shape)"
   ]
  },
  {
   "cell_type": "code",
   "execution_count": 21,
   "id": "675372d1",
   "metadata": {},
   "outputs": [
    {
     "name": "stdout",
     "output_type": "stream",
     "text": [
      "Model: \"sequential_2\"\n",
      "_________________________________________________________________\n",
      " Layer (type)                Output Shape              Param #   \n",
      "=================================================================\n",
      " sequential (Sequential)     (32, 256, 256, 3)         0         \n",
      "                                                                 \n",
      " sequential_1 (Sequential)   (32, 256, 256, 3)         0         \n",
      "                                                                 \n",
      " conv2d (Conv2D)             (32, 254, 254, 32)        896       \n",
      "                                                                 \n",
      " max_pooling2d (MaxPooling2D  (32, 127, 127, 32)       0         \n",
      " )                                                               \n",
      "                                                                 \n",
      " conv2d_1 (Conv2D)           (32, 125, 125, 64)        18496     \n",
      "                                                                 \n",
      " max_pooling2d_1 (MaxPooling  (32, 62, 62, 64)         0         \n",
      " 2D)                                                             \n",
      "                                                                 \n",
      " conv2d_2 (Conv2D)           (32, 60, 60, 64)          36928     \n",
      "                                                                 \n",
      " max_pooling2d_2 (MaxPooling  (32, 30, 30, 64)         0         \n",
      " 2D)                                                             \n",
      "                                                                 \n",
      " conv2d_3 (Conv2D)           (32, 28, 28, 64)          36928     \n",
      "                                                                 \n",
      " max_pooling2d_3 (MaxPooling  (32, 14, 14, 64)         0         \n",
      " 2D)                                                             \n",
      "                                                                 \n",
      " conv2d_4 (Conv2D)           (32, 12, 12, 64)          36928     \n",
      "                                                                 \n",
      " max_pooling2d_4 (MaxPooling  (32, 6, 6, 64)           0         \n",
      " 2D)                                                             \n",
      "                                                                 \n",
      " conv2d_5 (Conv2D)           (32, 4, 4, 64)            36928     \n",
      "                                                                 \n",
      " max_pooling2d_5 (MaxPooling  (32, 2, 2, 64)           0         \n",
      " 2D)                                                             \n",
      "                                                                 \n",
      " flatten (Flatten)           (32, 256)                 0         \n",
      "                                                                 \n",
      " dense (Dense)               (32, 64)                  16448     \n",
      "                                                                 \n",
      " dense_1 (Dense)             (32, 3)                   195       \n",
      "                                                                 \n",
      "=================================================================\n",
      "Total params: 183,747\n",
      "Trainable params: 183,747\n",
      "Non-trainable params: 0\n",
      "_________________________________________________________________\n"
     ]
    }
   ],
   "source": [
    "model.summary()"
   ]
  },
  {
   "cell_type": "code",
   "execution_count": 30,
   "id": "7f4da54c",
   "metadata": {},
   "outputs": [],
   "source": [
    "model.compile(\n",
    "    optimizer='adam',\n",
    "    loss=tf.keras.losses.SparseCategoricalCrossentropy(from_logits=False),\n",
    "    metrics=['accuracy']\n",
    ")"
   ]
  },
  {
   "cell_type": "code",
   "execution_count": 55,
   "id": "66c968a3",
   "metadata": {},
   "outputs": [
    {
     "name": "stdout",
     "output_type": "stream",
     "text": [
      "Epoch 1/50\n",
      "54/54 [==============================] - 276s 4s/step - loss: 1.3329 - accuracy: 0.5191 - val_loss: 0.8106 - val_accuracy: 0.6615\n",
      "Epoch 2/50\n",
      "54/54 [==============================] - 191s 4s/step - loss: 0.5452 - accuracy: 0.7656 - val_loss: 0.4492 - val_accuracy: 0.8229\n",
      "Epoch 3/50\n",
      "54/54 [==============================] - 185s 3s/step - loss: 0.3059 - accuracy: 0.8785 - val_loss: 0.3755 - val_accuracy: 0.8542\n",
      "Epoch 4/50\n",
      "54/54 [==============================] - 177s 3s/step - loss: 0.2622 - accuracy: 0.8976 - val_loss: 0.3922 - val_accuracy: 0.8385\n",
      "Epoch 5/50\n",
      "54/54 [==============================] - 181s 3s/step - loss: 0.2540 - accuracy: 0.8981 - val_loss: 0.2679 - val_accuracy: 0.8854\n",
      "Epoch 6/50\n",
      "54/54 [==============================] - 165s 3s/step - loss: 0.1722 - accuracy: 0.9381 - val_loss: 0.2531 - val_accuracy: 0.9219\n",
      "Epoch 7/50\n",
      "54/54 [==============================] - 152s 3s/step - loss: 0.1993 - accuracy: 0.9207 - val_loss: 0.2920 - val_accuracy: 0.8906\n",
      "Epoch 8/50\n",
      "54/54 [==============================] - 151s 3s/step - loss: 0.1647 - accuracy: 0.9450 - val_loss: 0.2167 - val_accuracy: 0.9167\n",
      "Epoch 9/50\n",
      "54/54 [==============================] - 151s 3s/step - loss: 0.1870 - accuracy: 0.9265 - val_loss: 0.1656 - val_accuracy: 0.9375\n",
      "Epoch 10/50\n",
      "54/54 [==============================] - 153s 3s/step - loss: 0.1734 - accuracy: 0.9352 - val_loss: 0.1524 - val_accuracy: 0.9531\n",
      "Epoch 11/50\n",
      "54/54 [==============================] - 153s 3s/step - loss: 0.1515 - accuracy: 0.9375 - val_loss: 0.3001 - val_accuracy: 0.9167\n",
      "Epoch 12/50\n",
      "54/54 [==============================] - 151s 3s/step - loss: 0.1457 - accuracy: 0.9416 - val_loss: 0.1580 - val_accuracy: 0.9323\n",
      "Epoch 13/50\n",
      "54/54 [==============================] - 152s 3s/step - loss: 0.1759 - accuracy: 0.9340 - val_loss: 0.1774 - val_accuracy: 0.9375\n",
      "Epoch 14/50\n",
      "54/54 [==============================] - 152s 3s/step - loss: 0.1559 - accuracy: 0.9439 - val_loss: 0.1929 - val_accuracy: 0.9271\n",
      "Epoch 15/50\n",
      "54/54 [==============================] - 152s 3s/step - loss: 0.1506 - accuracy: 0.9398 - val_loss: 0.1684 - val_accuracy: 0.9323\n",
      "Epoch 16/50\n",
      "54/54 [==============================] - 152s 3s/step - loss: 0.1608 - accuracy: 0.9427 - val_loss: 0.1142 - val_accuracy: 0.9531\n",
      "Epoch 17/50\n",
      "54/54 [==============================] - 152s 3s/step - loss: 0.1398 - accuracy: 0.9473 - val_loss: 0.1341 - val_accuracy: 0.9479\n",
      "Epoch 18/50\n",
      "54/54 [==============================] - 151s 3s/step - loss: 0.1271 - accuracy: 0.9554 - val_loss: 0.1831 - val_accuracy: 0.9062\n",
      "Epoch 19/50\n",
      "54/54 [==============================] - 152s 3s/step - loss: 0.1198 - accuracy: 0.9566 - val_loss: 0.1691 - val_accuracy: 0.9375\n",
      "Epoch 20/50\n",
      "54/54 [==============================] - 152s 3s/step - loss: 0.1157 - accuracy: 0.9566 - val_loss: 0.1352 - val_accuracy: 0.9531\n",
      "Epoch 21/50\n",
      "54/54 [==============================] - 155s 3s/step - loss: 0.1001 - accuracy: 0.9641 - val_loss: 0.1960 - val_accuracy: 0.9427\n",
      "Epoch 22/50\n",
      "54/54 [==============================] - 164s 3s/step - loss: 0.0977 - accuracy: 0.9705 - val_loss: 0.1280 - val_accuracy: 0.9427\n",
      "Epoch 23/50\n",
      "54/54 [==============================] - 161s 3s/step - loss: 0.1140 - accuracy: 0.9595 - val_loss: 0.1475 - val_accuracy: 0.9531\n",
      "Epoch 24/50\n",
      "54/54 [==============================] - 162s 3s/step - loss: 0.0924 - accuracy: 0.9688 - val_loss: 0.1332 - val_accuracy: 0.9375\n",
      "Epoch 25/50\n",
      "54/54 [==============================] - 157s 3s/step - loss: 0.1551 - accuracy: 0.9410 - val_loss: 0.6079 - val_accuracy: 0.7865\n",
      "Epoch 26/50\n",
      "54/54 [==============================] - 156s 3s/step - loss: 0.1729 - accuracy: 0.9317 - val_loss: 0.1366 - val_accuracy: 0.9375\n",
      "Epoch 27/50\n",
      "54/54 [==============================] - 165s 3s/step - loss: 0.0914 - accuracy: 0.9670 - val_loss: 0.1830 - val_accuracy: 0.9427\n",
      "Epoch 28/50\n",
      "54/54 [==============================] - 163s 3s/step - loss: 0.1052 - accuracy: 0.9595 - val_loss: 0.0728 - val_accuracy: 0.9740\n",
      "Epoch 29/50\n",
      "54/54 [==============================] - 165s 3s/step - loss: 0.1106 - accuracy: 0.9578 - val_loss: 0.2017 - val_accuracy: 0.9219\n",
      "Epoch 30/50\n",
      "54/54 [==============================] - 164s 3s/step - loss: 0.0899 - accuracy: 0.9670 - val_loss: 0.0925 - val_accuracy: 0.9531\n",
      "Epoch 31/50\n",
      "54/54 [==============================] - 153s 3s/step - loss: 0.0916 - accuracy: 0.9601 - val_loss: 0.0622 - val_accuracy: 0.9792\n",
      "Epoch 32/50\n",
      "54/54 [==============================] - 153s 3s/step - loss: 0.1031 - accuracy: 0.9618 - val_loss: 0.0647 - val_accuracy: 0.9688\n",
      "Epoch 33/50\n",
      "54/54 [==============================] - 159s 3s/step - loss: 0.0954 - accuracy: 0.9688 - val_loss: 0.1047 - val_accuracy: 0.9531\n",
      "Epoch 34/50\n",
      "54/54 [==============================] - 160s 3s/step - loss: 0.0653 - accuracy: 0.9728 - val_loss: 0.0532 - val_accuracy: 0.9844\n",
      "Epoch 35/50\n",
      "54/54 [==============================] - 184s 3s/step - loss: 0.0571 - accuracy: 0.9803 - val_loss: 0.0845 - val_accuracy: 0.9583\n",
      "Epoch 36/50\n",
      "54/54 [==============================] - 210s 4s/step - loss: 0.0766 - accuracy: 0.9716 - val_loss: 0.0635 - val_accuracy: 0.9740\n",
      "Epoch 37/50\n",
      "54/54 [==============================] - 175s 3s/step - loss: 0.0756 - accuracy: 0.9740 - val_loss: 0.0588 - val_accuracy: 0.9740\n",
      "Epoch 38/50\n",
      "54/54 [==============================] - 263s 5s/step - loss: 0.0625 - accuracy: 0.9797 - val_loss: 0.0876 - val_accuracy: 0.9688\n",
      "Epoch 39/50\n",
      "54/54 [==============================] - 162s 3s/step - loss: 0.0879 - accuracy: 0.9676 - val_loss: 0.0885 - val_accuracy: 0.9583\n",
      "Epoch 40/50\n",
      "54/54 [==============================] - 207s 4s/step - loss: 0.0697 - accuracy: 0.9716 - val_loss: 0.1156 - val_accuracy: 0.9531\n",
      "Epoch 41/50\n",
      "54/54 [==============================] - 172s 3s/step - loss: 0.0495 - accuracy: 0.9821 - val_loss: 0.1470 - val_accuracy: 0.9375\n",
      "Epoch 42/50\n",
      "54/54 [==============================] - 152s 3s/step - loss: 0.0596 - accuracy: 0.9769 - val_loss: 0.0982 - val_accuracy: 0.9688\n",
      "Epoch 43/50\n",
      "54/54 [==============================] - 161s 3s/step - loss: 0.0552 - accuracy: 0.9769 - val_loss: 0.0274 - val_accuracy: 0.9844\n",
      "Epoch 44/50\n",
      "54/54 [==============================] - 157s 3s/step - loss: 0.0497 - accuracy: 0.9850 - val_loss: 0.1084 - val_accuracy: 0.9635\n",
      "Epoch 45/50\n",
      "54/54 [==============================] - 151s 3s/step - loss: 0.0451 - accuracy: 0.9844 - val_loss: 0.1141 - val_accuracy: 0.9427\n",
      "Epoch 46/50\n",
      "54/54 [==============================] - 151s 3s/step - loss: 0.0659 - accuracy: 0.9745 - val_loss: 0.0622 - val_accuracy: 0.9792\n",
      "Epoch 47/50\n",
      "54/54 [==============================] - 176s 3s/step - loss: 0.0543 - accuracy: 0.9803 - val_loss: 0.0593 - val_accuracy: 0.9740\n",
      "Epoch 48/50\n",
      "54/54 [==============================] - 176s 3s/step - loss: 0.0272 - accuracy: 0.9907 - val_loss: 0.0261 - val_accuracy: 0.9844\n",
      "Epoch 49/50\n",
      "54/54 [==============================] - 179s 3s/step - loss: 0.1660 - accuracy: 0.9502 - val_loss: 0.1070 - val_accuracy: 0.9688\n",
      "Epoch 50/50\n",
      "54/54 [==============================] - 197s 4s/step - loss: 0.0608 - accuracy: 0.9769 - val_loss: 0.0873 - val_accuracy: 0.9740\n"
     ]
    }
   ],
   "source": [
    "history = model.fit(\n",
    "    train_ds,\n",
    "    epochs=EPOCHS,\n",
    "    batch_size=BATCH_SIZE,\n",
    "    verbose=1,\n",
    "    validation_data=val_ds\n",
    ")"
   ]
  },
  {
   "cell_type": "code",
   "execution_count": 56,
   "id": "979bb5a9",
   "metadata": {},
   "outputs": [
    {
     "name": "stdout",
     "output_type": "stream",
     "text": [
      "8/8 [==============================] - 29s 764ms/step - loss: 0.0573 - accuracy: 0.9766\n"
     ]
    }
   ],
   "source": [
    "scores = model.evaluate(test_ds)"
   ]
  },
  {
   "cell_type": "code",
   "execution_count": 22,
   "id": "6c85a36c",
   "metadata": {},
   "outputs": [
    {
     "ename": "NameError",
     "evalue": "name 'scores' is not defined",
     "output_type": "error",
     "traceback": [
      "\u001b[1;31m---------------------------------------------------------------------------\u001b[0m",
      "\u001b[1;31mNameError\u001b[0m                                 Traceback (most recent call last)",
      "\u001b[1;32m<ipython-input-22-fa8cef49474b>\u001b[0m in \u001b[0;36m<module>\u001b[1;34m\u001b[0m\n\u001b[1;32m----> 1\u001b[1;33m \u001b[0mscores\u001b[0m\u001b[1;33m\u001b[0m\u001b[1;33m\u001b[0m\u001b[0m\n\u001b[0m",
      "\u001b[1;31mNameError\u001b[0m: name 'scores' is not defined"
     ]
    }
   ],
   "source": [
    "scores"
   ]
  },
  {
   "cell_type": "code",
   "execution_count": null,
   "id": "17a17859",
   "metadata": {},
   "outputs": [],
   "source": [
    "history"
   ]
  },
  {
   "cell_type": "code",
   "execution_count": null,
   "id": "5118aa63",
   "metadata": {},
   "outputs": [],
   "source": [
    "history.params"
   ]
  },
  {
   "cell_type": "code",
   "execution_count": null,
   "id": "31663f43",
   "metadata": {},
   "outputs": [],
   "source": [
    "len(history.history['val_accuracy'])"
   ]
  },
  {
   "cell_type": "code",
   "execution_count": null,
   "id": "789e299a",
   "metadata": {},
   "outputs": [],
   "source": [
    "import numpy as np\n",
    "\n",
    "for image_batch, label_batch in test_ds.take(1):\n",
    "    \n",
    "    first_image = image_batch[0].numpy().astype('uint8')\n",
    "    first_label = label_batch[0].numpy()\n",
    "    \n",
    "    print(\"first image to predict\")\n",
    "    print(plt.imshow(first_image))\n",
    "    print(\"first image actual label is\", class_names[first_label])\n",
    "    \n",
    "    batch_prediction = model.predict(image_batch)\n",
    "    print(\"predicted label\",class_names[np.argmax(batch_prediction[0])])"
   ]
  },
  {
   "cell_type": "code",
   "execution_count": null,
   "id": "8cc5c3f3",
   "metadata": {},
   "outputs": [],
   "source": [
    "def predict(model, img):\n",
    "    img_array = tf.keras.preprocessing.image.img_to_array(images[i].numpy())\n",
    "    img_array = tf.expand_dims(img_array, 0) # create a batch\n",
    "    \n",
    "    predictions = model.predict(img_array)\n",
    "    \n",
    "    predicted_class = class_names[np.argmax(batch_prediction[0])]\n",
    "    confidence = round(100* (np.max(predictions[0])), 2)\n",
    "    \n",
    "    return predicted_class, confidence"
   ]
  },
  {
   "cell_type": "code",
   "execution_count": null,
   "id": "bb06402e",
   "metadata": {},
   "outputs": [],
   "source": [
    "plt.figure(figsize=(10, 10))\n",
    "for images, labels in test_ds.take(1):\n",
    "    for i in range(9):\n",
    "        ax = plt.subplot(3, 3, i + 1) \n",
    "        plt.imshow(images[i].numpy().astype('uint8'))\n",
    "        \n",
    "        predicted_class, confidence = predict(model, images[i].numpy())\n",
    "        actual_class = class_names[labels[i]]\n",
    "        \n",
    "        plt.title(f\"Actual: {actual_class},\\n Predicted: {predicted_class},\\n Confidence: {confidence}\")\n",
    "        \n",
    "        plt.axis('off')"
   ]
  },
  {
   "cell_type": "code",
   "execution_count": null,
   "id": "aa823f8f",
   "metadata": {},
   "outputs": [],
   "source": [
    "model.save(\"../models/potatoes.h5\")"
   ]
  },
  {
   "cell_type": "code",
   "execution_count": 49,
   "id": "a9b2aa97",
   "metadata": {},
   "outputs": [],
   "source": []
  }
 ],
 "metadata": {
  "kernelspec": {
   "display_name": "Python 3",
   "language": "python",
   "name": "python3"
  },
  "language_info": {
   "codemirror_mode": {
    "name": "ipython",
    "version": 3
   },
   "file_extension": ".py",
   "mimetype": "text/x-python",
   "name": "python",
   "nbconvert_exporter": "python",
   "pygments_lexer": "ipython3",
   "version": "3.8.8"
  }
 },
 "nbformat": 4,
 "nbformat_minor": 5
}
